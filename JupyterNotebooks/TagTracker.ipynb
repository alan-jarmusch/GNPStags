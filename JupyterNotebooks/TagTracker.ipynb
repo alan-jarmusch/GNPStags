{
 "cells": [
  {
   "cell_type": "markdown",
   "metadata": {},
   "source": [
    "Download GNPS data <br>\n",
    "Replace Job ID below with your GNPS job ID:"
   ]
  },
  {
   "cell_type": "code",
   "execution_count": 1,
   "metadata": {},
   "outputs": [
    {
     "name": "stdout",
     "output_type": "stream",
     "text": [
      "\n",
      "Archive:  GNPS_output_graphML.zip\n",
      "  inflating: GNPS_output_graphML/METABOLOMICS-SNETS-V2-b1a2c12d-download_cytoscape_data-main.graphml  \n",
      "  inflating: GNPS_output_graphML/params.xml  \n",
      "  inflating: GNPS_output_graphML/clusterinfo/f783bf50c3b64152ad5eb0443ee14d1d.clusterinfo  \n",
      "  inflating: GNPS_output_graphML/clusterinfosummarygroup_attributes_withIDs_withcomponentID/1aa71bf519a146f5a22e9ff0256eab79.clustersummary  \n",
      "  inflating: GNPS_output_graphML/networkedges_selfloop/d1df267375dc47efa023c29ae9128360..selfloop  \n",
      "  inflating: GNPS_output_graphML/result_specnets_DB/c0c125797f3f48ae952136365c9d4a45.tsv  \n",
      "  inflating: GNPS_output_graphML/groupmapping_converted/267b5739e9594fb8a32bc39e86870669.group  \n",
      "  inflating: GNPS_output_graphML/qiime2_output/qiime2_emperor.qzv  \n",
      "  inflating: GNPS_output_graphML/qiime2_output/qiime2_manifest.tsv  \n",
      "  inflating: GNPS_output_graphML/qiime2_output/qiime2_metadata.tsv  \n",
      "  inflating: GNPS_output_graphML/qiime2_output/qiime2_table.qza  \n",
      "  inflating: GNPS_output_graphML/qiime2_output/qiime2_distance.qza  \n",
      "  inflating: GNPS_output_graphML/qiime2_output/qiime2_pcoa.qza  \n",
      "  inflating: GNPS_output_graphML/gnps_molecular_network_graphml/1b54495209dc48faa8de23809d93e355.graphml  \n"
     ]
    }
   ],
   "source": [
    "! curl -d \"\" 'https://gnps.ucsd.edu/ProteoSAFe/DownloadResult?task=b1a2c12dcf7d4fe49c8de616f2f2590a&view=download_cytoscape_data' -o GNPS_output_graphML.zip\n",
    "! unzip -d GNPS_output_graphML/ GNPS_output_graphML.zip"
   ]
  },
  {
   "cell_type": "markdown",
   "metadata": {},
   "source": [
    "## Tagtracker"
   ]
  },
  {
   "cell_type": "markdown",
   "metadata": {},
   "source": [
    "load libraries"
   ]
  },
  {
   "cell_type": "code",
   "execution_count": 1,
   "metadata": {},
   "outputs": [],
   "source": [
    "import sys\n",
    "import os"
   ]
  },
  {
   "cell_type": "code",
   "execution_count": 2,
   "metadata": {},
   "outputs": [],
   "source": [
    "sys.path.append('../Python/') "
   ]
  },
  {
   "cell_type": "code",
   "execution_count": 3,
   "metadata": {},
   "outputs": [],
   "source": [
    "import pandas as pd\n",
    "from networkx import *\n",
    "from tagtracker import *"
   ]
  },
  {
   "cell_type": "markdown",
   "metadata": {},
   "source": [
    "load master source info sheet"
   ]
  },
  {
   "cell_type": "code",
   "execution_count": 4,
   "metadata": {},
   "outputs": [],
   "source": [
    "si = '../example/GNPSTagTemplateMASTERMaster_Structure.tsv'"
   ]
  },
  {
   "cell_type": "code",
   "execution_count": 5,
   "metadata": {},
   "outputs": [],
   "source": [
    "s = pd.read_csv(si, sep = '\\t')"
   ]
  },
  {
   "cell_type": "code",
   "execution_count": 6,
   "metadata": {},
   "outputs": [
    {
     "data": {
      "text/html": [
       "<div>\n",
       "<style scoped>\n",
       "    .dataframe tbody tr th:only-of-type {\n",
       "        vertical-align: middle;\n",
       "    }\n",
       "\n",
       "    .dataframe tbody tr th {\n",
       "        vertical-align: top;\n",
       "    }\n",
       "\n",
       "    .dataframe thead th {\n",
       "        text-align: right;\n",
       "    }\n",
       "</style>\n",
       "<table border=\"1\" class=\"dataframe\">\n",
       "  <thead>\n",
       "    <tr style=\"text-align: right;\">\n",
       "      <th></th>\n",
       "      <th>InChI_Key_Planar</th>\n",
       "      <th>TAGS</th>\n",
       "      <th>NCBITaxonomy</th>\n",
       "      <th>UBERONBodyPartName</th>\n",
       "      <th>Lifestyle_Tag</th>\n",
       "    </tr>\n",
       "  </thead>\n",
       "  <tbody>\n",
       "    <tr>\n",
       "      <th>0</th>\n",
       "      <td>AAASNKNLMQBKFV</td>\n",
       "      <td>food</td>\n",
       "      <td>NaN</td>\n",
       "      <td>NaN</td>\n",
       "      <td>NaN</td>\n",
       "    </tr>\n",
       "    <tr>\n",
       "      <th>1</th>\n",
       "      <td>AABZZWPMCAZHFC</td>\n",
       "      <td>naturalproduct|bacterial|bacterial_produced</td>\n",
       "      <td>NaN</td>\n",
       "      <td>NaN</td>\n",
       "      <td>NaN</td>\n",
       "    </tr>\n",
       "    <tr>\n",
       "      <th>2</th>\n",
       "      <td>AACVPYUISGWNOU</td>\n",
       "      <td>naturalproduct</td>\n",
       "      <td>NaN</td>\n",
       "      <td>NaN</td>\n",
       "      <td>NaN</td>\n",
       "    </tr>\n",
       "    <tr>\n",
       "      <th>3</th>\n",
       "      <td>AADNEQWIZKTMBL</td>\n",
       "      <td>naturalproduct</td>\n",
       "      <td>NaN</td>\n",
       "      <td>NaN</td>\n",
       "      <td>NaN</td>\n",
       "    </tr>\n",
       "    <tr>\n",
       "      <th>4</th>\n",
       "      <td>AADVZSXPNRLYLV</td>\n",
       "      <td>naturalproduct</td>\n",
       "      <td>NaN</td>\n",
       "      <td>NaN</td>\n",
       "      <td>NaN</td>\n",
       "    </tr>\n",
       "  </tbody>\n",
       "</table>\n",
       "</div>"
      ],
      "text/plain": [
       "  InChI_Key_Planar                                         TAGS NCBITaxonomy  \\\n",
       "0   AAASNKNLMQBKFV                                         food          NaN   \n",
       "1   AABZZWPMCAZHFC  naturalproduct|bacterial|bacterial_produced          NaN   \n",
       "2   AACVPYUISGWNOU                               naturalproduct          NaN   \n",
       "3   AADNEQWIZKTMBL                               naturalproduct          NaN   \n",
       "4   AADVZSXPNRLYLV                               naturalproduct          NaN   \n",
       "\n",
       "  UBERONBodyPartName Lifestyle_Tag  \n",
       "0                NaN           NaN  \n",
       "1                NaN           NaN  \n",
       "2                NaN           NaN  \n",
       "3                NaN           NaN  \n",
       "4                NaN           NaN  "
      ]
     },
     "execution_count": 6,
     "metadata": {},
     "output_type": "execute_result"
    }
   ],
   "source": [
    "s.head()"
   ]
  },
  {
   "cell_type": "code",
   "execution_count": 7,
   "metadata": {},
   "outputs": [
    {
     "data": {
      "text/plain": [
       "(8548, 5)"
      ]
     },
     "execution_count": 7,
     "metadata": {},
     "output_type": "execute_result"
    }
   ],
   "source": [
    "s.shape"
   ]
  },
  {
   "cell_type": "markdown",
   "metadata": {},
   "source": [
    "load graphML file"
   ]
  },
  {
   "cell_type": "code",
   "execution_count": 8,
   "metadata": {},
   "outputs": [],
   "source": [
    "graphMLfile = 'GNPS_output_graphML/' + [x for x in os.listdir('GNPS_output_graphML/') if 'METABOLOMICS' in x][0]"
   ]
  },
  {
   "cell_type": "code",
   "execution_count": 9,
   "metadata": {},
   "outputs": [],
   "source": [
    "graphML = read_graphml(graphMLfile)"
   ]
  },
  {
   "cell_type": "markdown",
   "metadata": {},
   "source": [
    "load GNPS library hits"
   ]
  },
  {
   "cell_type": "code",
   "execution_count": 10,
   "metadata": {},
   "outputs": [],
   "source": [
    "DBfile = 'GNPS_output_graphML/result_specnets_DB/' + str(os.listdir('GNPS_output_graphML/result_specnets_DB/')[0])"
   ]
  },
  {
   "cell_type": "code",
   "execution_count": 11,
   "metadata": {},
   "outputs": [],
   "source": [
    "libhits = pd.read_csv(DBfile, sep = '\\t')"
   ]
  },
  {
   "cell_type": "code",
   "execution_count": 12,
   "metadata": {},
   "outputs": [
    {
     "data": {
      "text/html": [
       "<div>\n",
       "<style scoped>\n",
       "    .dataframe tbody tr th:only-of-type {\n",
       "        vertical-align: middle;\n",
       "    }\n",
       "\n",
       "    .dataframe tbody tr th {\n",
       "        vertical-align: top;\n",
       "    }\n",
       "\n",
       "    .dataframe thead th {\n",
       "        text-align: right;\n",
       "    }\n",
       "</style>\n",
       "<table border=\"1\" class=\"dataframe\">\n",
       "  <thead>\n",
       "    <tr style=\"text-align: right;\">\n",
       "      <th></th>\n",
       "      <th>SpectrumID</th>\n",
       "      <th>Compound_Name</th>\n",
       "      <th>Ion_Source</th>\n",
       "      <th>Instrument</th>\n",
       "      <th>Compound_Source</th>\n",
       "      <th>PI</th>\n",
       "      <th>Data_Collector</th>\n",
       "      <th>Adduct</th>\n",
       "      <th>Precursor_MZ</th>\n",
       "      <th>ExactMass</th>\n",
       "      <th>...</th>\n",
       "      <th>FileScanUniqueID</th>\n",
       "      <th>NumberHits</th>\n",
       "      <th>tags</th>\n",
       "      <th>MoleculeExplorerDatasets</th>\n",
       "      <th>MoleculeExplorerFiles</th>\n",
       "      <th>InChIKey</th>\n",
       "      <th>InChIKey-Planar</th>\n",
       "      <th>superclass</th>\n",
       "      <th>class</th>\n",
       "      <th>subclass</th>\n",
       "    </tr>\n",
       "  </thead>\n",
       "  <tbody>\n",
       "    <tr>\n",
       "      <th>0</th>\n",
       "      <td>CCMSLIB00000006062</td>\n",
       "      <td>Vorinostat</td>\n",
       "      <td>LC-ESI</td>\n",
       "      <td>qTof</td>\n",
       "      <td>Isolated</td>\n",
       "      <td>Sirenas</td>\n",
       "      <td>Ed Esquenazi</td>\n",
       "      <td>M+H</td>\n",
       "      <td>265.156</td>\n",
       "      <td>0.0</td>\n",
       "      <td>...</td>\n",
       "      <td>spectra/specs_ms.pklbin1167</td>\n",
       "      <td>1</td>\n",
       "      <td>NaN</td>\n",
       "      <td>0</td>\n",
       "      <td>0</td>\n",
       "      <td>NaN</td>\n",
       "      <td>NaN</td>\n",
       "      <td>NaN</td>\n",
       "      <td>NaN</td>\n",
       "      <td>NaN</td>\n",
       "    </tr>\n",
       "    <tr>\n",
       "      <th>1</th>\n",
       "      <td>CCMSLIB00000006062</td>\n",
       "      <td>Vorinostat</td>\n",
       "      <td>LC-ESI</td>\n",
       "      <td>qTof</td>\n",
       "      <td>Isolated</td>\n",
       "      <td>Sirenas</td>\n",
       "      <td>Ed Esquenazi</td>\n",
       "      <td>M+H</td>\n",
       "      <td>265.156</td>\n",
       "      <td>0.0</td>\n",
       "      <td>...</td>\n",
       "      <td>spectra/specs_ms.pklbin1169</td>\n",
       "      <td>1</td>\n",
       "      <td>NaN</td>\n",
       "      <td>0</td>\n",
       "      <td>0</td>\n",
       "      <td>NaN</td>\n",
       "      <td>NaN</td>\n",
       "      <td>NaN</td>\n",
       "      <td>NaN</td>\n",
       "      <td>NaN</td>\n",
       "    </tr>\n",
       "    <tr>\n",
       "      <th>2</th>\n",
       "      <td>CCMSLIB00000214324</td>\n",
       "      <td>Massbank:FIO00476 Amitryptiline</td>\n",
       "      <td>ESI</td>\n",
       "      <td>LC-ESI-QTOF</td>\n",
       "      <td>Isolated</td>\n",
       "      <td>Putative Massbank Match</td>\n",
       "      <td>Massbank</td>\n",
       "      <td>[M+H]+</td>\n",
       "      <td>278.191</td>\n",
       "      <td>0.0</td>\n",
       "      <td>...</td>\n",
       "      <td>spectra/specs_ms.pklbin1359</td>\n",
       "      <td>1</td>\n",
       "      <td>drug[Chemical Family]</td>\n",
       "      <td>29</td>\n",
       "      <td>423</td>\n",
       "      <td>KRMDCWKBEZIMAB-UHFFFAOYSA-N</td>\n",
       "      <td>KRMDCWKBEZIMAB</td>\n",
       "      <td>NaN</td>\n",
       "      <td>NaN</td>\n",
       "      <td>NaN</td>\n",
       "    </tr>\n",
       "    <tr>\n",
       "      <th>3</th>\n",
       "      <td>CCMSLIB00003135135</td>\n",
       "      <td>Spectral Match to DL-Indole-3-lactic acid from...</td>\n",
       "      <td>ESI</td>\n",
       "      <td>Q-TOF</td>\n",
       "      <td>Isolated</td>\n",
       "      <td>Data from Dorrestein</td>\n",
       "      <td>Data deposited by quinnr</td>\n",
       "      <td>M+H-H2O</td>\n",
       "      <td>188.070</td>\n",
       "      <td>0.0</td>\n",
       "      <td>...</td>\n",
       "      <td>spectra/specs_ms.pklbin141</td>\n",
       "      <td>1</td>\n",
       "      <td>NaN</td>\n",
       "      <td>95</td>\n",
       "      <td>8144</td>\n",
       "      <td>NaN</td>\n",
       "      <td>NaN</td>\n",
       "      <td>NaN</td>\n",
       "      <td>NaN</td>\n",
       "      <td>NaN</td>\n",
       "    </tr>\n",
       "    <tr>\n",
       "      <th>4</th>\n",
       "      <td>CCMSLIB00003135135</td>\n",
       "      <td>Spectral Match to DL-Indole-3-lactic acid from...</td>\n",
       "      <td>ESI</td>\n",
       "      <td>Q-TOF</td>\n",
       "      <td>Isolated</td>\n",
       "      <td>Data from Dorrestein</td>\n",
       "      <td>Data deposited by quinnr</td>\n",
       "      <td>M+H-H2O</td>\n",
       "      <td>188.070</td>\n",
       "      <td>0.0</td>\n",
       "      <td>...</td>\n",
       "      <td>spectra/specs_ms.pklbin142</td>\n",
       "      <td>1</td>\n",
       "      <td>NaN</td>\n",
       "      <td>95</td>\n",
       "      <td>8144</td>\n",
       "      <td>NaN</td>\n",
       "      <td>NaN</td>\n",
       "      <td>NaN</td>\n",
       "      <td>NaN</td>\n",
       "      <td>NaN</td>\n",
       "    </tr>\n",
       "  </tbody>\n",
       "</table>\n",
       "<p>5 rows × 43 columns</p>\n",
       "</div>"
      ],
      "text/plain": [
       "           SpectrumID                                      Compound_Name  \\\n",
       "0  CCMSLIB00000006062                                         Vorinostat   \n",
       "1  CCMSLIB00000006062                                         Vorinostat   \n",
       "2  CCMSLIB00000214324                    Massbank:FIO00476 Amitryptiline   \n",
       "3  CCMSLIB00003135135  Spectral Match to DL-Indole-3-lactic acid from...   \n",
       "4  CCMSLIB00003135135  Spectral Match to DL-Indole-3-lactic acid from...   \n",
       "\n",
       "  Ion_Source   Instrument Compound_Source                       PI  \\\n",
       "0     LC-ESI         qTof        Isolated                  Sirenas   \n",
       "1     LC-ESI         qTof        Isolated                  Sirenas   \n",
       "2        ESI  LC-ESI-QTOF        Isolated  Putative Massbank Match   \n",
       "3        ESI        Q-TOF        Isolated     Data from Dorrestein   \n",
       "4        ESI        Q-TOF        Isolated     Data from Dorrestein   \n",
       "\n",
       "             Data_Collector   Adduct  Precursor_MZ  ExactMass  ...  \\\n",
       "0             Ed Esquenazi       M+H       265.156        0.0  ...   \n",
       "1             Ed Esquenazi       M+H       265.156        0.0  ...   \n",
       "2                  Massbank   [M+H]+       278.191        0.0  ...   \n",
       "3  Data deposited by quinnr  M+H-H2O       188.070        0.0  ...   \n",
       "4  Data deposited by quinnr  M+H-H2O       188.070        0.0  ...   \n",
       "\n",
       "              FileScanUniqueID NumberHits                   tags  \\\n",
       "0  spectra/specs_ms.pklbin1167          1                    NaN   \n",
       "1  spectra/specs_ms.pklbin1169          1                    NaN   \n",
       "2  spectra/specs_ms.pklbin1359          1  drug[Chemical Family]   \n",
       "3   spectra/specs_ms.pklbin141          1                    NaN   \n",
       "4   spectra/specs_ms.pklbin142          1                    NaN   \n",
       "\n",
       "  MoleculeExplorerDatasets MoleculeExplorerFiles                     InChIKey  \\\n",
       "0                        0                     0                          NaN   \n",
       "1                        0                     0                          NaN   \n",
       "2                       29                   423  KRMDCWKBEZIMAB-UHFFFAOYSA-N   \n",
       "3                       95                  8144                          NaN   \n",
       "4                       95                  8144                          NaN   \n",
       "\n",
       "   InChIKey-Planar superclass class subclass  \n",
       "0              NaN        NaN   NaN      NaN  \n",
       "1              NaN        NaN   NaN      NaN  \n",
       "2   KRMDCWKBEZIMAB        NaN   NaN      NaN  \n",
       "3              NaN        NaN   NaN      NaN  \n",
       "4              NaN        NaN   NaN      NaN  \n",
       "\n",
       "[5 rows x 43 columns]"
      ]
     },
     "execution_count": 12,
     "metadata": {},
     "output_type": "execute_result"
    }
   ],
   "source": [
    "libhits.head()"
   ]
  },
  {
   "cell_type": "markdown",
   "metadata": {},
   "source": [
    "create a graphML file that only contains features from any of the columns and source types selected "
   ]
  },
  {
   "cell_type": "code",
   "execution_count": 15,
   "metadata": {},
   "outputs": [
    {
     "data": {
      "image/png": "[encoded data removed]",
      "text/plain": [
       "<Figure size 432x288 with 1 Axes>"
      ]
     },
     "metadata": {
      "needs_background": "light"
     },
     "output_type": "display_data"
    }
   ],
   "source": [
    "Filtered = tagtracker(s, libhits, graphML, source = 'drug|human', tag = 'TAGS')"
   ]
  },
  {
   "cell_type": "code",
   "execution_count": 16,
   "metadata": {},
   "outputs": [],
   "source": [
    "nx.write_graphml(Filtered, \"FilteredNetwork.graphml\")"
   ]
  }
 ],
 "metadata": {
  "kernelspec": {
   "display_name": "Python 3",
   "language": "python",
   "name": "python3"
  },
  "language_info": {
   "codemirror_mode": {
    "name": "ipython",
    "version": 3
   },
   "file_extension": ".py",
   "mimetype": "text/x-python",
   "name": "python",
   "nbconvert_exporter": "python",
   "pygments_lexer": "ipython3",
   "version": "3.7.3"
  }
 },
 "nbformat": 4,
 "nbformat_minor": 2
}
